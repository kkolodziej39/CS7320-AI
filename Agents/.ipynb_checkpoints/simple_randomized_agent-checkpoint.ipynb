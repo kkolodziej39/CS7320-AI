{
 "cells": [
  {
   "cell_type": "markdown",
   "metadata": {},
   "source": [
    "# Intelligent Agents: Vacuum-cleaner World\n",
    "\n",
    "Implement a simulator environment for a vacuum-cleaner world and a set of intelligent agents.\n",
    "\n",
    "## PEAS description\n",
    "\n",
    "__Performance Measure:__ Each action costs 1. The performance is measured as the sum of the cost to clean the whole environment.\n",
    "\n",
    "__Environment:__ A room with $n \\times n$ squares where $n = 5$. Dirt is randomly placed on each square with probability $p = 0.2$. For simplicity, you can assume that the agent knows the size of the layout of the room (i.e., it knows n and where it starts).\n",
    "\n",
    "__Actuators:__ The agent can `clean` the current square or move to an adjacent square by going `north`, `east`, `west`, or `south`.\n",
    "\n",
    "__Sensors:__ Four bumper sensors, one for north`, `east`, `west`, and `south`; a dirt sensor reporting dirt in the current square.  \n",
    "\n",
    "The easiest implementation for the environment is to hold an 2-dimensional array to represent if squares are clean or dirty and to call the agent function in a loop untill all squares are clean or a predefined number of steps have been reached.\n",
    "\n",
    "## Define the agent program for a simple randomized agent\n",
    "\n",
    "The agent program is a function that gets sensor information (the current percepts) as the arguments. The arguments are:\n",
    "\n",
    "* A dictonary with boolean entries for the for bumper sensors `north`, `east`, `west`, `south`; not specified bumpers are assumed to be `False`. E.g., if the agent is on the north-west corner, `bumpers` gets `{\"north\" : True, \"west\" : True}` or if the agent is not close to a border then it gets `{}`.\n",
    "* The dirt sensor produces a boolean.\n",
    "\n",
    "The agent returns the chosen action as a string.\n",
    "\n",
    "Here is an example implementation for the agent program of a simple randomized agent:  "
   ]
  },
  {
   "cell_type": "code",
   "execution_count": 9,
   "metadata": {},
   "outputs": [],
   "source": [
    "from numpy import random\n",
    "\n",
    "actions = [\"north\", \"east\", \"west\", \"south\", \"suck\"]\n",
    "\n",
    "\n",
    "def simple_randomized_agent(bumpers, dirty):\n",
    "    return random.choice(actions)"
   ]
  },
  {
   "cell_type": "code",
   "execution_count": 10,
   "metadata": {},
   "outputs": [
    {
     "data": {
      "text/plain": [
       "'south'"
      ]
     },
     "execution_count": 10,
     "metadata": {},
     "output_type": "execute_result"
    }
   ],
   "source": [
    "simple_randomized_agent({\"north\" : True}, True)"
   ]
  },
  {
   "cell_type": "markdown",
   "metadata": {},
   "source": [
    "## Simple environment example\n",
    "\n",
    "The environment is infinite in size (bumpers are always `False`) and every square is dirty. We run the agent for 10 times steps."
   ]
  },
  {
   "cell_type": "code",
   "execution_count": 11,
   "metadata": {},
   "outputs": [
    {
     "name": "stdout",
     "output_type": "stream",
     "text": [
      "east\n",
      "south\n",
      "north\n",
      "east\n",
      "east\n",
      "east\n",
      "east\n",
      "south\n",
      "suck\n",
      "west\n"
     ]
    }
   ],
   "source": [
    "for i in range(10):\n",
    "    print(simple_randomized_agent({\"north\" : False, \"south\" : False, \"west\" : False, \"east\" : False}, True))"
   ]
  },
  {
   "cell_type": "markdown",
   "metadata": {},
   "source": [
    "# Tasks\n",
    "\n",
    "_Submission Instructions:_ Use this notebook to prepare your submission. Complete this section with your code and results. You can use Markdown blocks for your description, comments in the code and use mathplotlib to produce charts. If you use external code files then you can include them with \n",
    "\n",
    "```\n",
    "from notebook import psource\n",
    "psource(\"your_file.py\")\n",
    "```\n",
    "\n",
    "_Note:_ Try to keep the code simple! In this couse, we want to learn about the algorithms and we often do not need to use object-oriented design. \n",
    "\n",
    "\n",
    "## Task 1: Implement a simulation environment\n",
    "\n",
    "Your environment simulator needs to create squares, make some dirty, and proivde the agent function with the sensor inputs. The environment needs to evaluate the performance measure. It needs to track the agent's actions until all dirty squares are clean and count the number of actions it takes the agent to complete the task.\n",
    "\n",
    "The simulation environment needs to work with the simple randomized agent program from above."
   ]
  },
  {
   "cell_type": "code",
   "execution_count": 28,
   "metadata": {},
   "outputs": [
    {
     "name": "stdout",
     "output_type": "stream",
     "text": [
      "[[False False False False False]\n",
      " [False False False False False]\n",
      " [False False False False  True]\n",
      " [False False False False False]\n",
      " [False False False False False]]\n",
      "Dirty squares:  1\n"
     ]
    },
    {
     "data": {
      "text/plain": [
       "9"
      ]
     },
     "execution_count": 28,
     "metadata": {},
     "output_type": "execute_result"
    }
   ],
   "source": [
    "# Your code goes here\n",
    "import numpy as np\n",
    "\n",
    "def simulation_environment(agent, n = 5, p = .2, max_steps = 20000, verb = True):\n",
    "    \n",
    "    room = np.random.choice(a=[True, False], size=(n,n), p =[p, 1-p])\n",
    "    if(verb): print(room)\n",
    "    to_clean = np.sum(room)\n",
    "    if(verb): print(\"Dirty squares: \", to_clean)\n",
    "    \n",
    "    pos = [0,0]\n",
    "    \n",
    "    for i in range(max_steps):\n",
    "        bumpers = {\n",
    "            \"north\": pos[0] == 0,\n",
    "            \"south\": pos[0] == n-1,\n",
    "            \"west\": pos[1] == 0,\n",
    "            \"east\": pos[1] == n-1\n",
    "        }\n",
    "        dirty = room[pos[0], pos[1]]\n",
    "        action = agent(bumpers, dirty)\n",
    "        \n",
    "        if(action == \"north\" and pos[0]>0): pos[0] = pos[0]-1\n",
    "        if(action == \"south\" and pos[0]<(n-1)): pos[0] = pos[0]+1\n",
    "        if(action == \"west\" and pos[1]>0): pos[1] = pos[1]-1\n",
    "        if(action == \"east\" and pos[1]<(n-1)): pos[1] = pos[1]+1\n",
    "        if(action == \"suck\"): room[pos[0], pos[1]] = False\n",
    "            \n",
    "        to_clean = np.sum(room)\n",
    "        \n",
    "        if(to_clean < 1): break\n",
    "        \n",
    "    return(i)\n",
    "\n",
    "\n",
    "simulation_environment(simple_randomized_agent, max_steps = 10)\n"
   ]
  },
  {
   "cell_type": "code",
   "execution_count": 13,
   "metadata": {},
   "outputs": [
    {
     "name": "stdout",
     "output_type": "stream",
     "text": [
      "422.877\n"
     ]
    },
    {
     "data": {
      "image/png": "[encoded data removed]",
      "text/plain": [
       "<Figure size 432x288 with 1 Axes>"
      ]
     },
     "metadata": {
      "needs_background": "light"
     },
     "output_type": "display_data"
    }
   ],
   "source": [
    "N = 1000\n",
    "steps = np.repeat(0, N)\n",
    "for i in range(N):\n",
    "    steps[i] = simulation_environment(simple_randomized_agent, verb = False)\n",
    "    \n",
    "    \n",
    "print(np.mean(steps))\n",
    "\n",
    "import matplotlib.pyplot as plt\n",
    "plt.hist(steps, bins = 10)\n",
    "plt.xlabel(\"steps\")\n",
    "plt.ylabel(\"frequency\")\n",
    "plt.show()"
   ]
  },
  {
   "cell_type": "markdown",
   "metadata": {},
   "source": [
    "## Task 2:  Implement a simple reflex agent\n",
    "\n",
    "The simple reflex agent randomly walks around but reacts to the bumper sensor by not bumping into the wall and to dirt with sucking."
   ]
  },
  {
   "cell_type": "code",
   "execution_count": 14,
   "metadata": {},
   "outputs": [
    {
     "data": {
      "text/plain": [
       "198"
      ]
     },
     "execution_count": 14,
     "metadata": {},
     "output_type": "execute_result"
    }
   ],
   "source": [
    "# Your code goes here\n",
    "\n",
    "def simple_reflex_agent(bumpers, dirty):\n",
    "    if(dirty): return \"suck\"\n",
    "    \n",
    "    open_directions=[]\n",
    "    x = bumpers.items()\n",
    "    for i in x:\n",
    "        if(not i[1]): open_directions.append(i[0])\n",
    "            \n",
    "    \n",
    "    return random.choice(open_directions)\n",
    "\n",
    "                         \n",
    "simulation_environment(simple_reflex_agent, verb = False)"
   ]
  },
  {
   "cell_type": "code",
   "execution_count": 15,
   "metadata": {},
   "outputs": [
    {
     "name": "stdout",
     "output_type": "stream",
     "text": [
      "104.799\n"
     ]
    },
    {
     "data": {
      "image/png": "[encoded data removed]",
      "text/plain": [
       "<Figure size 432x288 with 1 Axes>"
      ]
     },
     "metadata": {
      "needs_background": "light"
     },
     "output_type": "display_data"
    }
   ],
   "source": [
    "N = 1000\n",
    "steps = np.repeat(0, N)\n",
    "for i in range(N):\n",
    "    steps[i] = simulation_environment(simple_reflex_agent, verb = False)\n",
    "    \n",
    "    \n",
    "print(np.mean(steps))\n",
    "\n",
    "import matplotlib.pyplot as plt\n",
    "plt.hist(steps, bins = 10)\n",
    "plt.xlabel(\"steps\")\n",
    "plt.ylabel(\"frequency\")\n",
    "plt.show()"
   ]
  },
  {
   "cell_type": "markdown",
   "metadata": {},
   "source": [
    "## Task 3: Implement a model-based reflex agent \n",
    "\n",
    "This agent keeps track of the location and remembers where it has cleaned. Assume the agent knows how many squares the room has and where it starts. It can now use more advanced navigation.\n",
    "\n",
    "_Note on implementing the state:_ You can use a global variable. In Python, you have to use the keyword `global` in your function for this to work (see: https://www.programiz.com/python-programming/global-keyword). Alternatively, you can define a class for your agent with a member variable for the state and a function for the agent program (see: https://www.w3schools.com/python/python_classes.asp). \n",
    "\n",
    "Describe how your agent will perform \n",
    "* if it is put into a larger room, \n",
    "* if the room contains obstacles, or \n",
    "* if it starts in a random square."
   ]
  },
  {
   "cell_type": "code",
   "execution_count": 16,
   "metadata": {},
   "outputs": [
    {
     "data": {
      "text/plain": [
       "21"
      ]
     },
     "execution_count": 16,
     "metadata": {},
     "output_type": "execute_result"
    }
   ],
   "source": [
    "# Your code goes here\n",
    "right = True\n",
    "def simple_model_agent(bumpers, dirty):\n",
    "    if(dirty):\n",
    "        #print('suck') \n",
    "        return \"suck\"\n",
    "    global right\n",
    "    if(right):\n",
    "        if(not bumpers.get(\"east\")): \n",
    "            #print('east')\n",
    "            return \"east\"\n",
    "        else:\n",
    "            right = False\n",
    "            #print('south')\n",
    "            return \"south\"\n",
    "        \n",
    "    if(not bumpers.get(\"west\")):  \n",
    "        #print('west') \n",
    "        return \"west\"\n",
    "    else:\n",
    "        right = True\n",
    "        #print('south')\n",
    "        return \"south\"\n",
    "\n",
    "                         \n",
    "simulation_environment(simple_model_agent, verb = False)"
   ]
  },
  {
   "cell_type": "code",
   "execution_count": 17,
   "metadata": {},
   "outputs": [
    {
     "name": "stdout",
     "output_type": "stream",
     "text": [
      "24.122\n"
     ]
    },
    {
     "data": {
      "image/png": "[encoded data removed]",
      "text/plain": [
       "<Figure size 432x288 with 1 Axes>"
      ]
     },
     "metadata": {
      "needs_background": "light"
     },
     "output_type": "display_data"
    }
   ],
   "source": [
    "N = 1000\n",
    "steps = np.repeat(0, N)\n",
    "for i in range(N):\n",
    "    right = True\n",
    "    steps[i] = simulation_environment(simple_model_agent, verb = False)\n",
    "    \n",
    "    \n",
    "print(np.mean(steps))\n",
    "\n",
    "import matplotlib.pyplot as plt\n",
    "plt.hist(steps, bins = 10)\n",
    "plt.xlabel(\"steps\")\n",
    "plt.ylabel(\"frequency\")\n",
    "plt.show()"
   ]
  },
  {
   "cell_type": "markdown",
   "metadata": {},
   "source": [
    "* If it is put into a larger roo: My agent will still be able to clean the room, but it should take a proportional amount of time longer to clean the room due to the added squares it will need to go through. \n",
    "* If the room contains obstacles: My agent would not work or it would be unlikely for it to work in the case of an obstacle being in the room. It could still clean the room fully if the squares below the obstacle are all clean. In this scenario, my agent would still be able to follow its path of going back forth of all the way east and all the west with a step down once it hits the wall all the way until the obstacle in which the room would be clean. If this is not the case and let's say the obstacle exists on the first row, my agent would not clean the full room. It would take a step down thinking this is the end of the wall and miss that portion of the room that the obstacle is blocking off.\n",
    "* If it starts in a random square: My agent would not work as it is built with the notion that it is starting in the (0,0) square each time. My agent works with this assumption in mind by traveling all the way east until it hits the wall. Then, it takes a step down and travels all the way west until it hits the wall. It would take a step down to travel east and repeat this process until the room is fully cleaned. Thus, if it was placed in a random spot, it would miss the squares that are north and west of its starting spot."
   ]
  },
  {
   "cell_type": "markdown",
   "metadata": {},
   "source": [
    "## Task 4: Simulation study\n",
    "\n",
    "Compare the performance of the agents using different size environments. E.g., $5 \\times 5$, $10 \\times 10$ and\n",
    "$100 \\times 100$. Use at least 100 random runs for each."
   ]
  },
  {
   "cell_type": "code",
   "execution_count": 18,
   "metadata": {},
   "outputs": [
    {
     "name": "stdout",
     "output_type": "stream",
     "text": [
      "Average number of steps:  426.93\n",
      "Median:  383.0\n",
      "Standard deviation:  255.36297519413418\n",
      "Range:  0  -  2243\n"
     ]
    },
    {
     "data": {
      "image/png": "[encoded data removed]",
      "text/plain": [
       "<Figure size 432x288 with 1 Axes>"
      ]
     },
     "metadata": {
      "needs_background": "light"
     },
     "output_type": "display_data"
    }
   ],
   "source": [
    "# Your code goes here\n",
    "\n",
    "\n",
    "N = 1000\n",
    "steps = np.repeat(0, N)\n",
    "for i in range(N):\n",
    "    steps[i] = simulation_environment(simple_randomized_agent, verb = False)\n",
    "    \n",
    "    \n",
    "print(\"Average number of steps: \", np.mean(steps))\n",
    "print(\"Median: \", np.median(steps))\n",
    "print(\"Standard deviation: \", np.std(steps))\n",
    "print(\"Range: \", np.min(steps), \" - \", np.max(steps))\n",
    "\n",
    "import matplotlib.pyplot as plt\n",
    "plt.hist(steps, bins = 10)\n",
    "plt.xlabel(\"steps\")\n",
    "plt.ylabel(\"frequency\")\n",
    "plt.show()\n"
   ]
  },
  {
   "cell_type": "code",
   "execution_count": 19,
   "metadata": {},
   "outputs": [
    {
     "name": "stdout",
     "output_type": "stream",
     "text": [
      "Average number of steps:  103.287\n",
      "Median:  86.5\n",
      "Standard deviation:  71.74998697560858\n",
      "Range:  0  -  619\n"
     ]
    },
    {
     "data": {
      "image/png": "[encoded data removed]",
      "text/plain": [
       "<Figure size 432x288 with 1 Axes>"
      ]
     },
     "metadata": {
      "needs_background": "light"
     },
     "output_type": "display_data"
    }
   ],
   "source": [
    "N = 1000\n",
    "steps = np.repeat(0, N)\n",
    "for i in range(N):\n",
    "    steps[i] = simulation_environment(simple_reflex_agent, verb = False)\n",
    "    \n",
    "    \n",
    "print(\"Average number of steps: \", np.mean(steps))\n",
    "print(\"Median: \", np.median(steps))\n",
    "print(\"Standard deviation: \", np.std(steps))\n",
    "print(\"Range: \", np.min(steps), \" - \", np.max(steps))\n",
    "\n",
    "import matplotlib.pyplot as plt\n",
    "plt.hist(steps, bins = 10)\n",
    "plt.xlabel(\"steps\")\n",
    "plt.ylabel(\"frequency\")\n",
    "plt.show()"
   ]
  },
  {
   "cell_type": "code",
   "execution_count": 20,
   "metadata": {},
   "outputs": [
    {
     "name": "stdout",
     "output_type": "stream",
     "text": [
      "Average number of steps:  24.357\n",
      "Median:  25.0\n",
      "Standard deviation:  5.257713476407782\n",
      "Range:  0  -  35\n"
     ]
    },
    {
     "data": {
      "image/png": "[encoded data removed]",
      "text/plain": [
       "<Figure size 432x288 with 1 Axes>"
      ]
     },
     "metadata": {
      "needs_background": "light"
     },
     "output_type": "display_data"
    }
   ],
   "source": [
    "N = 1000\n",
    "steps = np.repeat(0, N)\n",
    "for i in range(N):\n",
    "    right = True\n",
    "    steps[i] = simulation_environment(simple_model_agent, verb = False)\n",
    "    \n",
    "    \n",
    "print(\"Average number of steps: \", np.mean(steps))\n",
    "print(\"Median: \", np.median(steps))\n",
    "print(\"Standard deviation: \", np.std(steps))\n",
    "print(\"Range: \", np.min(steps), \" - \", np.max(steps))\n",
    "\n",
    "import matplotlib.pyplot as plt\n",
    "plt.hist(steps, bins = 10)\n",
    "plt.xlabel(\"steps\")\n",
    "plt.ylabel(\"frequency\")\n",
    "plt.show()"
   ]
  },
  {
   "cell_type": "code",
   "execution_count": 22,
   "metadata": {},
   "outputs": [
    {
     "name": "stdout",
     "output_type": "stream",
     "text": [
      "Average number of steps:  2943.866\n",
      "Median:  2775.5\n",
      "Standard deviation:  1090.1709645940862\n",
      "Range:  647  -  8822\n"
     ]
    },
    {
     "data": {
      "image/png": "[encoded data removed]",
      "text/plain": [
       "<Figure size 432x288 with 1 Axes>"
      ]
     },
     "metadata": {
      "needs_background": "light"
     },
     "output_type": "display_data"
    }
   ],
   "source": [
    "N = 1000\n",
    "steps = np.repeat(0, N)\n",
    "for i in range(N):\n",
    "    steps[i] = simulation_environment(simple_randomized_agent, n = 10, verb = False)\n",
    "    \n",
    "    \n",
    "print(\"Average number of steps: \", np.mean(steps))\n",
    "print(\"Median: \", np.median(steps))\n",
    "print(\"Standard deviation: \", np.std(steps))\n",
    "print(\"Range: \", np.min(steps), \" - \", np.max(steps))\n",
    "\n",
    "import matplotlib.pyplot as plt\n",
    "plt.hist(steps, bins = 10)\n",
    "plt.xlabel(\"steps\")\n",
    "plt.ylabel(\"frequency\")\n",
    "plt.show()"
   ]
  },
  {
   "cell_type": "code",
   "execution_count": 23,
   "metadata": {},
   "outputs": [
    {
     "name": "stdout",
     "output_type": "stream",
     "text": [
      "Average number of steps:  911.124\n",
      "Median:  816.0\n",
      "Standard deviation:  419.9510359839585\n",
      "Range:  222  -  3097\n"
     ]
    },
    {
     "data": {
      "image/png": "[encoded data removed]",
      "text/plain": [
       "<Figure size 432x288 with 1 Axes>"
      ]
     },
     "metadata": {
      "needs_background": "light"
     },
     "output_type": "display_data"
    }
   ],
   "source": [
    "N = 1000\n",
    "steps = np.repeat(0, N)\n",
    "for i in range(N):\n",
    "    steps[i] = simulation_environment(simple_reflex_agent, n = 10, verb = False)\n",
    "    \n",
    "    \n",
    "print(\"Average number of steps: \", np.mean(steps))\n",
    "print(\"Median: \", np.median(steps))\n",
    "print(\"Standard deviation: \", np.std(steps))\n",
    "print(\"Range: \", np.min(steps), \" - \", np.max(steps))\n",
    "\n",
    "import matplotlib.pyplot as plt\n",
    "plt.hist(steps, bins = 10)\n",
    "plt.xlabel(\"steps\")\n",
    "plt.ylabel(\"frequency\")\n",
    "plt.show()"
   ]
  },
  {
   "cell_type": "code",
   "execution_count": 24,
   "metadata": {},
   "outputs": [
    {
     "name": "stdout",
     "output_type": "stream",
     "text": [
      "Average number of steps:  114.169\n",
      "Median:  115.0\n",
      "Standard deviation:  6.659312201721736\n",
      "Range:  83  -  130\n"
     ]
    },
    {
     "data": {
      "image/png": "[encoded data removed]",
      "text/plain": [
       "<Figure size 432x288 with 1 Axes>"
      ]
     },
     "metadata": {
      "needs_background": "light"
     },
     "output_type": "display_data"
    }
   ],
   "source": [
    "N = 1000\n",
    "steps = np.repeat(0, N)\n",
    "for i in range(N):\n",
    "    right = True\n",
    "    steps[i] = simulation_environment(simple_model_agent, n = 10, verb = False)\n",
    "    \n",
    "    \n",
    "print(\"Average number of steps: \", np.mean(steps))\n",
    "print(\"Median: \", np.median(steps))\n",
    "print(\"Standard deviation: \", np.std(steps))\n",
    "print(\"Range: \", np.min(steps), \" - \", np.max(steps))\n",
    "\n",
    "import matplotlib.pyplot as plt\n",
    "plt.hist(steps, bins = 10)\n",
    "plt.xlabel(\"steps\")\n",
    "plt.ylabel(\"frequency\")\n",
    "plt.show()"
   ]
  },
  {
   "cell_type": "code",
   "execution_count": 29,
   "metadata": {},
   "outputs": [
    {
     "name": "stdout",
     "output_type": "stream",
     "text": [
      "Average number of steps:  19999.0\n",
      "Median:  19999.0\n",
      "Standard deviation:  0.0\n",
      "Range:  19999  -  19999\n"
     ]
    },
    {
     "data": {
      "image/png": "[encoded data removed]",
      "text/plain": [
       "<Figure size 432x288 with 1 Axes>"
      ]
     },
     "metadata": {
      "needs_background": "light"
     },
     "output_type": "display_data"
    }
   ],
   "source": [
    "N = 1000\n",
    "steps = np.repeat(0, N)\n",
    "for i in range(N):\n",
    "    steps[i] = simulation_environment(simple_randomized_agent, n = 100, verb = False)\n",
    "    \n",
    "    \n",
    "print(\"Average number of steps: \", np.mean(steps))\n",
    "print(\"Median: \", np.median(steps))\n",
    "print(\"Standard deviation: \", np.std(steps))\n",
    "print(\"Range: \", np.min(steps), \" - \", np.max(steps))\n",
    "\n",
    "import matplotlib.pyplot as plt\n",
    "plt.hist(steps, bins = 10)\n",
    "plt.xlabel(\"steps\")\n",
    "plt.ylabel(\"frequency\")\n",
    "plt.show()"
   ]
  },
  {
   "cell_type": "code",
   "execution_count": 30,
   "metadata": {},
   "outputs": [
    {
     "name": "stdout",
     "output_type": "stream",
     "text": [
      "Average number of steps:  19999.0\n",
      "Median:  19999.0\n",
      "Standard deviation:  0.0\n",
      "Range:  19999  -  19999\n"
     ]
    },
    {
     "data": {
      "image/png": "[encoded data removed]",
      "text/plain": [
       "<Figure size 432x288 with 1 Axes>"
      ]
     },
     "metadata": {
      "needs_background": "light"
     },
     "output_type": "display_data"
    }
   ],
   "source": [
    "N = 1000\n",
    "steps = np.repeat(0, N)\n",
    "for i in range(N):\n",
    "    steps[i] = simulation_environment(simple_reflex_agent, n = 100, verb = False)\n",
    "    \n",
    "    \n",
    "print(\"Average number of steps: \", np.mean(steps))\n",
    "print(\"Median: \", np.median(steps))\n",
    "print(\"Standard deviation: \", np.std(steps))\n",
    "print(\"Range: \", np.min(steps), \" - \", np.max(steps))\n",
    "\n",
    "import matplotlib.pyplot as plt\n",
    "plt.hist(steps, bins = 10)\n",
    "plt.xlabel(\"steps\")\n",
    "plt.ylabel(\"frequency\")\n",
    "plt.show()"
   ]
  },
  {
   "cell_type": "code",
   "execution_count": 31,
   "metadata": {},
   "outputs": [
    {
     "name": "stdout",
     "output_type": "stream",
     "text": [
      "Average number of steps:  11995.358\n",
      "Median:  11994.0\n",
      "Standard deviation:  40.738063724237065\n",
      "Range:  11865  -  12118\n"
     ]
    },
    {
     "data": {
      "image/png": "[encoded data removed]",
      "text/plain": [
       "<Figure size 432x288 with 1 Axes>"
      ]
     },
     "metadata": {
      "needs_background": "light"
     },
     "output_type": "display_data"
    }
   ],
   "source": [
    "N = 1000\n",
    "steps = np.repeat(0, N)\n",
    "for i in range(N):\n",
    "    right = True\n",
    "    steps[i] = simulation_environment(simple_model_agent, n = 100, verb = False)\n",
    "    \n",
    "    \n",
    "print(\"Average number of steps: \", np.mean(steps))\n",
    "print(\"Median: \", np.median(steps))\n",
    "print(\"Standard deviation: \", np.std(steps))\n",
    "print(\"Range: \", np.min(steps), \" - \", np.max(steps))\n",
    "\n",
    "import matplotlib.pyplot as plt\n",
    "plt.hist(steps, bins = 10)\n",
    "plt.xlabel(\"steps\")\n",
    "plt.ylabel(\"frequency\")\n",
    "plt.show()"
   ]
  },
  {
   "cell_type": "markdown",
   "metadata": {},
   "source": [
    "I am going to run the trials below with a 50 x 50 square since the reflex and randomized agent could not complete the 100 x 100, even with the max steps extended out to 20,000"
   ]
  },
  {
   "cell_type": "code",
   "execution_count": 32,
   "metadata": {},
   "outputs": [
    {
     "name": "stdout",
     "output_type": "stream",
     "text": [
      "Average number of steps:  19999.0\n",
      "Median:  19999.0\n",
      "Standard deviation:  0.0\n",
      "Range:  19999  -  19999\n"
     ]
    },
    {
     "data": {
      "image/png": "[encoded data removed]",
      "text/plain": [
       "<Figure size 432x288 with 1 Axes>"
      ]
     },
     "metadata": {
      "needs_background": "light"
     },
     "output_type": "display_data"
    }
   ],
   "source": [
    "N = 1000\n",
    "steps = np.repeat(0, N)\n",
    "for i in range(N):\n",
    "    steps[i] = simulation_environment(simple_randomized_agent, n = 50, verb = False)\n",
    "    \n",
    "    \n",
    "print(\"Average number of steps: \", np.mean(steps))\n",
    "print(\"Median: \", np.median(steps))\n",
    "print(\"Standard deviation: \", np.std(steps))\n",
    "print(\"Range: \", np.min(steps), \" - \", np.max(steps))\n",
    "\n",
    "import matplotlib.pyplot as plt\n",
    "plt.hist(steps, bins = 10)\n",
    "plt.xlabel(\"steps\")\n",
    "plt.ylabel(\"frequency\")\n",
    "plt.show()"
   ]
  },
  {
   "cell_type": "markdown",
   "metadata": {},
   "source": [
    "50 x 50 is too big for the randomized agent so going to scale it down to 25 x 25"
   ]
  },
  {
   "cell_type": "code",
   "execution_count": 34,
   "metadata": {},
   "outputs": [
    {
     "name": "stdout",
     "output_type": "stream",
     "text": [
      "Average number of steps:  19927.83\n",
      "Median:  19999.0\n",
      "Standard deviation:  406.8494624550953\n",
      "Range:  15610  -  19999\n"
     ]
    },
    {
     "data": {
      "image/png": "[encoded data removed]",
      "text/plain": [
       "<Figure size 432x288 with 1 Axes>"
      ]
     },
     "metadata": {
      "needs_background": "light"
     },
     "output_type": "display_data"
    }
   ],
   "source": [
    "N = 1000\n",
    "steps = np.repeat(0, N)\n",
    "for i in range(N):\n",
    "    steps[i] = simulation_environment(simple_randomized_agent, n = 25, verb = False)\n",
    "    \n",
    "    \n",
    "print(\"Average number of steps: \", np.mean(steps))\n",
    "print(\"Median: \", np.median(steps))\n",
    "print(\"Standard deviation: \", np.std(steps))\n",
    "print(\"Range: \", np.min(steps), \" - \", np.max(steps))\n",
    "\n",
    "import matplotlib.pyplot as plt\n",
    "plt.hist(steps, bins = 10)\n",
    "plt.xlabel(\"steps\")\n",
    "plt.ylabel(\"frequency\")\n",
    "plt.show()"
   ]
  },
  {
   "cell_type": "code",
   "execution_count": 37,
   "metadata": {},
   "outputs": [
    {
     "name": "stdout",
     "output_type": "stream",
     "text": [
      "Average number of steps:  10727.625\n",
      "Median:  9995.5\n",
      "Standard deviation:  3475.642921874311\n",
      "Range:  4641  -  19999\n"
     ]
    },
    {
     "data": {
      "image/png": "[encoded data removed]",
      "text/plain": [
       "<Figure size 432x288 with 1 Axes>"
      ]
     },
     "metadata": {
      "needs_background": "light"
     },
     "output_type": "display_data"
    }
   ],
   "source": [
    "N = 1000\n",
    "steps = np.repeat(0, N)\n",
    "for i in range(N):\n",
    "    steps[i] = simulation_environment(simple_reflex_agent, n = 25, verb = False)\n",
    "    \n",
    "    \n",
    "print(\"Average number of steps: \", np.mean(steps))\n",
    "print(\"Median: \", np.median(steps))\n",
    "print(\"Standard deviation: \", np.std(steps))\n",
    "print(\"Range: \", np.min(steps), \" - \", np.max(steps))\n",
    "\n",
    "import matplotlib.pyplot as plt\n",
    "plt.hist(steps, bins = 10)\n",
    "plt.xlabel(\"steps\")\n",
    "plt.ylabel(\"frequency\")\n",
    "plt.show()"
   ]
  },
  {
   "cell_type": "code",
   "execution_count": 39,
   "metadata": {},
   "outputs": [
    {
     "name": "stdout",
     "output_type": "stream",
     "text": [
      "Average number of steps:  744.132\n",
      "Median:  744.0\n",
      "Standard deviation:  11.588208489667418\n",
      "Range:  702  -  791\n"
     ]
    },
    {
     "data": {
      "image/png": "[encoded data removed]",
      "text/plain": [
       "<Figure size 432x288 with 1 Axes>"
      ]
     },
     "metadata": {
      "needs_background": "light"
     },
     "output_type": "display_data"
    }
   ],
   "source": [
    "N = 1000\n",
    "steps = np.repeat(0, N)\n",
    "for i in range(N):\n",
    "    right = True\n",
    "    steps[i] = simulation_environment(simple_model_agent, n = 25, verb = False)\n",
    "    \n",
    "    \n",
    "print(\"Average number of steps: \", np.mean(steps))\n",
    "print(\"Median: \", np.median(steps))\n",
    "print(\"Standard deviation: \", np.std(steps))\n",
    "print(\"Range: \", np.min(steps), \" - \", np.max(steps))\n",
    "\n",
    "import matplotlib.pyplot as plt\n",
    "plt.hist(steps, bins = 10)\n",
    "plt.xlabel(\"steps\")\n",
    "plt.ylabel(\"frequency\")\n",
    "plt.show()"
   ]
  },
  {
   "cell_type": "markdown",
   "metadata": {},
   "source": [
    "Overall, the agents ranked in best to worst in terms of performance ranked the Model Agent, the Reflex Agent, and then the Randomized Agent. This order of performance was consistent regardless of the environment size. One thing that is interesting to note is that both the Randomized and Reflex Agents produced a right skewed graph while the Model Agent produced a more left skewed graph (this trend is more evident in the smaller environments). When attempting to run at an environment that is 100 x 100, only the Model Agent was able to clean the environment. Additionally, the randomized agent typically failed when trying to clean an environment that was 25 x 25 while both the Reflex Agent and the Model Agent were able to complete it. I am listing the average number of steps for the various agents at the different environment sizes below.\n",
    "\n",
    "<strong>Randomized Agent </strong>\n",
    "* 5 x 5: 426.93 (average steps)\n",
    "* 10 x 10: 2943.866 (average steps)\n",
    "* 25 x 25: 19927.83 (average steps)\n",
    "* 100 x 100: Could not finish\n",
    "\n",
    "<strong>Reflex Agent </strong>\n",
    "* 5 x 5: 103.287 (average steps)\n",
    "* 10 x 10: 911.124 (average steps)\n",
    "* 25 x 25: 10727.625 (average steps)\n",
    "* 100 x 100: Could not finish\n",
    "\n",
    "<strong>Model Agent </strong>\n",
    "* 5 x 5: 24.357 (average steps)\n",
    "* 10 x 10: 114.169 (average steps)\n",
    "* 25 x 25: 744.132 (average steps)\n",
    "* 100 x 100: 11995.358 (average steps)\n"
   ]
  },
  {
   "cell_type": "markdown",
   "metadata": {},
   "source": [
    "## Bonus tasks\n",
    "\n",
    "* __Obstacles:__ Add random obstacle squares that also trigger the bumper sensor. The agent does not know where the obstacles are. Observe how this changes the performance of the three implementations.\n",
    "* __Unknown environment with obstacles:__ Implement an agent for an environment where the agent does not know how large the environment is (we assume it is rectangular), where it starts or where the obstacles are. An option would be to always move to the closest unchecked/uncleaned square.\n",
    "* __Utility-based agent:__ Change the environment, so each square has a fixed probability of getting dirty again. We assume the agent has learned this information over time. For the implementation, we give this information to the agent as a 2-dimensional array of probabilities  Cleaning one dirty square produces a utility of 1. Implement a utility-based agent that maximizes the expected utility over one full charge which lasts for 10000 time steps. This is very tricky!"
   ]
  },
  {
   "cell_type": "code",
   "execution_count": null,
   "metadata": {},
   "outputs": [],
   "source": [
    "# Your code goes here"
   ]
  }
 ],
 "metadata": {
  "kernelspec": {
   "display_name": "Python 3",
   "language": "python",
   "name": "python3"
  },
  "language_info": {
   "codemirror_mode": {
    "name": "ipython",
    "version": 3
   },
   "file_extension": ".py",
   "mimetype": "text/x-python",
   "name": "python",
   "nbconvert_exporter": "python",
   "pygments_lexer": "ipython3",
   "version": "3.7.4"
  }
 },
 "nbformat": 4,
 "nbformat_minor": 4
}
