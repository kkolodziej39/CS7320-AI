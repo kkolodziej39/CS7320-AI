{
 "cells": [
  {
   "cell_type": "markdown",
   "metadata": {},
   "source": [
    "## Solving the n-Queens Problem using Local Search¶\n",
    "Points: 10\n",
    "\n",
    "## The n-Queens Problem\n",
    "<b>Goal</b>: Find an arrangement of $n$ queens on a $n \\times n$ chess board so that no queen is on the same row, column or diagonal as any other queen.\n",
    "\n",
    "<b>State space</b>: An arrangement of the queens on the board. We restrict the state space to arrangements where there is only a single queen per column. We represent a state as an integer vector of length $n$, each number representing for one column (from left to write) the row the queen is located in. We will call a state a \"board.\"\n",
    "\n",
    "<b>Objective function</b>: The number of pairwise conflicts (i.e., two queens in the same row/column/diagonal).\n",
    "\n",
    "The optimization problem is to find the optimal arrangement $a^*$ of $n$ queens on the board:\n",
    "\n",
    "$$a^* = \\mathrm{argmin}_a [ \\mathrm{conflicts}(a) ]$$$$\\text{s.t.}\\ a \\ \\text{contains only one queen per column}$$\n",
    "Note that for this problem there is always an arrangement $a^*$ with $\\mathrm{conflicts}(a) = 0$.\n",
    "\n",
    "<b>Local move</b>: Move one queen to a different position in its column.\n",
    "\n",
    "## Helper functions"
   ]
  },
  {
   "cell_type": "code",
<<<<<<< HEAD
   "execution_count": null,
   "metadata": {},
   "outputs": [],
   "source": []
  },
  {
   "cell_type": "code",
=======
>>>>>>> 5664bc07585ce275554372bc634a7b35a6a54c10
   "execution_count": 13,
   "metadata": {},
   "outputs": [],
   "source": [
    "import numpy as np\n",
    "import matplotlib.pyplot as plt\n",
    "from matplotlib import colors\n",
    "import math\n",
    "\n",
    "\n",
    "def random_board(n):\n",
    "    \"\"\"Creates a random board of size n x n. Note that only a single queen is placed in each column!\"\"\"\n",
    "    \n",
    "    return(np.random.randint(0,n-1, size = n))\n",
    "\n",
    "\n",
    "def conflicts(board):\n",
    "    \"\"\"Caclulate the number of conflicts, i.e., the objective function.\"\"\"\n",
    "    \n",
    "    board = np.array(board)\n",
    "    \n",
    "    n = len(board)\n",
    "    conflicts = 0\n",
    "\n",
    "    # check horizontal (we do not check vertical since the state space is restricted to one queen per col)\n",
    "    for i in range(n): conflicts += math.comb(np.sum(board == i), 2)\n",
    "    #print(f\"Horizontal conflicts: {conflicts}\")\n",
    "    \n",
    "    # check for each queen diagonally up and down (only to the right side of the queen)\n",
    "    for j in range(n):\n",
    "        q_up = board[j]\n",
    "        q_down = board[j]\n",
    "     \n",
    "        for jj in range(j+1, n):\n",
    "            q_up -= 1\n",
    "            q_down += 1\n",
    "            if board[jj] == q_up: conflicts += 1\n",
    "            if board[jj] == q_down: conflicts += 1\n",
    "        #print(f\"Conflicts after queen {j}: {conflicts}\")\n",
    "       \n",
    "    return(conflicts)\n",
    "        \n",
    "\n",
    "def show_board(board, cols = ['white', 'gray']):  \n",
    "    \"\"\"display the board\"\"\"\n",
    "    \n",
    "    n = len(board)\n",
    "    \n",
    "    # create chess board display\n",
    "    display = np.zeros([n,n])\n",
    "    for i in range(n):\n",
    "        for j in range(n):\n",
    "            if (((i+j) % 2) != 0): \n",
    "                display[i,j] = 1\n",
    "    \n",
    "    cmap = colors.ListedColormap(cols)\n",
    "    fig, ax = plt.subplots()\n",
    "    ax.imshow(display, cmap = cmap, \n",
    "              norm = colors.BoundaryNorm(range(len(cols)+1), cmap.N))\n",
    "    ax.set_xticks([])\n",
    "    ax.set_yticks([])\n",
    "    \n",
    "    # place queens. Note: 1 and j are switched. Unicode u265B is a black queen\n",
    "    for j in range(n):\n",
    "        plt.text(j, board[j], u\"\\u265B\", fontsize = 48, \n",
    "                 horizontalalignment = 'center',\n",
    "                 verticalalignment = 'center')\n",
    "    \n",
    "    print(f\"Board with {conflicts(board)} conflicts.\")\n",
    "    plt.show()"
   ]
  },
  {
   "cell_type": "markdown",
   "metadata": {},
   "source": [
    "## Create a board"
   ]
  },
  {
   "cell_type": "code",
   "execution_count": 14,
   "metadata": {},
   "outputs": [
    {
     "name": "stdout",
     "output_type": "stream",
     "text": [
      "Board with 5 conflicts.\n"
     ]
    },
    {
     "data": {
      "image/png": "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\n",
      "text/plain": [
       "<Figure size 432x288 with 1 Axes>"
      ]
     },
     "metadata": {},
     "output_type": "display_data"
    },
    {
     "name": "stdout",
     "output_type": "stream",
     "text": [
      "Queens (left to right) are at rows: [1 2 1 2]\n",
      "Number of conflicts: 5\n"
     ]
    }
   ],
   "source": [
    "board = random_board(4)\n",
    "\n",
    "show_board(board)\n",
    "print(f\"Queens (left to right) are at rows: {board}\")\n",
    "print(f\"Number of conflicts: {conflicts(board)}\")"
   ]
  },
  {
   "cell_type": "code",
   "execution_count": 15,
   "metadata": {},
   "outputs": [
    {
     "name": "stdout",
     "output_type": "stream",
     "text": [
      "Board with 0 conflicts.\n"
     ]
    },
    {
     "data": {
      "image/png": "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\n",
      "text/plain": [
       "<Figure size 432x288 with 1 Axes>"
      ]
     },
     "metadata": {},
     "output_type": "display_data"
    }
   ],
   "source": [
    "\n",
    "board = [1,3,0,2]\n",
    "show_board(board)"
   ]
  },
  {
   "cell_type": "markdown",
   "metadata": {},
   "source": [
    "## Steepest-ascend Hill Climbing Search [3 Points]\n",
    "\n",
    "Calculate the objective function for all local moves (move each queen within its column) and always choose the best among all local moves."
   ]
  },
  {
   "cell_type": "code",
   "execution_count": 178,
   "metadata": {},
   "outputs": [],
   "source": [
    "# Code goes here\n",
    "\n",
    "def get_uphill_moves(board, moves, n):\n",
    "    currConflicts = conflicts(board)\n",
    "    uphillMoves = []\n",
    "    for index, item in enumerate(moves):\n",
    "        temp = board.copy()\n",
    "       #print(\"index = {} and item = {}\".format(index, item))\n",
    "        for i in item:\n",
    "            temp[index] = i\n",
    "            if conflicts(temp) < currConflicts:\n",
    "                uphillMoves.append([index, i])\n",
    "    \n",
    "   #print(uphillMoves)\n",
    "    return uphillMoves\n",
    "\n",
    "            \n",
    "        \n",
    "def get_moves(board, n):\n",
    "    possiblePositions = []\n",
    "    for i in range(n):\n",
    "       #print(\"adding {}\".format(i))\n",
    "        possiblePositions.append(i)\n",
    "    temp = possiblePositions.copy()\n",
    "    possibleMoves = []\n",
    "    for x in range(n):\n",
    "        listAdd = [ele for ele in possiblePositions if ele != board[x]]\n",
    "        possibleMoves.append(listAdd)\n",
    "\n",
    "    return possibleMoves\n",
    "\n",
    "            \n",
    "def get_value_at_point(board, indexChange, changeToValue):\n",
    "    temp = board.copy()\n",
    "    temp[indexChange] = changeToValue\n",
    "    return conflicts(temp)\n",
    "            \n",
    "def get_most_uphill_moves(board, moves, n):\n",
    "    currConflicts = conflicts(board)\n",
    "    mostUphillMove = []\n",
    "    for index, item in enumerate(moves):\n",
    "        temp = board.copy()\n",
    "       #print(\"index = {} and item = {}\".format(index, item))\n",
    "        for i in item:\n",
    "            temp[index] = i\n",
    "            if conflicts(temp) < currConflicts:\n",
    "                mostUphillMove = [index, i]\n",
    "                currConflicts = conflicts(temp)\n",
    "    \n",
    "   #print(mostUphillMove)\n",
    "    return mostUphillMove\n",
    "    \n",
    "def sahcs(n,maxMoves):\n",
    "    board = random_board(n)\n",
    "   #show_board(board)\n",
    "    if conflicts(board) == 0: #randomly created a board with zero conflicts\n",
    "        return 0,0\n",
    "   #print(board)\n",
    "   #print(board[0])\n",
    "    count = 0\n",
    "    iterations = 0\n",
    "    while conflicts(board) != 0:\n",
    "        moves = get_moves(board, n)\n",
    "        mostUphill = get_most_uphill_moves(board, moves, n)\n",
    "        iterations +=1\n",
    "        if len(mostUphill) != 0:\n",
    "            board[mostUphill[0]] = mostUphill[1]\n",
    "            count = 0\n",
    "        else:\n",
    "            count += 1\n",
    "        \n",
    "      #print(board)\n",
    "       #print(\"Conflicts {}\".format(conflicts(board)))\n",
    "        if count > maxMoves:\n",
    "           #print(\"Stuck at local max...with conflicts = {}\".format(conflicts(board)))\n",
    "           #print(\"Iterations = {}\".format(iterations))\n",
    "           #show_board(board)\n",
    "            return iterations, conflicts(board)\n",
    "            \n",
    "        \n",
    "   #print(\"Solved the problem!\")\n",
    "   #show_board(board)\n",
    "   #print(\"Iterations = {}\".format(iterations))\n",
    "    return iterations, conflicts(board)\n",
    "        "
   ]
  },
  {
   "cell_type": "code",
   "execution_count": 166,
   "metadata": {},
   "outputs": [
    {
     "name": "stdout",
     "output_type": "stream",
     "text": [
      "Board with 5 conflicts.\n"
     ]
    },
    {
     "data": {
      "image/png": "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\n",
      "text/plain": [
       "<Figure size 432x288 with 1 Axes>"
      ]
     },
     "metadata": {},
     "output_type": "display_data"
    },
    {
     "name": "stdout",
     "output_type": "stream",
     "text": [
      "Stuck at local max...with conflicts = 1\n",
      "Iterations = 1003\n",
      "Board with 1 conflicts.\n"
     ]
    },
    {
     "data": {
      "image/png": "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\n",
      "text/plain": [
       "<Figure size 432x288 with 1 Axes>"
      ]
     },
     "metadata": {},
     "output_type": "display_data"
    },
    {
     "data": {
      "text/plain": [
       "(1003, 1)"
      ]
     },
     "execution_count": 166,
     "metadata": {},
     "output_type": "execute_result"
    }
   ],
   "source": [
    "sahcs(4, 1000)"
   ]
  },
  {
   "cell_type": "markdown",
   "metadata": {},
   "source": [
    "## Steepest-ascend Hill Climbing Search with Random Restarts [1 Point]\n",
    "\n",
    "Steepest-ascend hill climbing will often end up in local optima. Restart the algorithm up to 100 times with a random board to find a better (hopefully optimal) solution."
   ]
  },
  {
   "cell_type": "code",
   "execution_count": 177,
   "metadata": {},
   "outputs": [],
   "source": [
    "# Code goes here\n",
    "def random_sahcs(n,maxMoves, maxRestarts):\n",
    "    board = random_board(n)\n",
    "    #show_board(board)\n",
    "    if conflicts(board) == 0: #randomly created a board with zero conflicts\n",
    "        return 0\n",
    "    #print(board)\n",
    "    #print(board[0])\n",
    "    count = 0\n",
    "    iterations = 0\n",
    "    while conflicts(board) != 0:\n",
    "        moves = get_moves(board, n)\n",
    "        mostUphill = get_most_uphill_moves(board, moves, n)\n",
    "        iterations +=1\n",
    "        if len(mostUphill) != 0:\n",
    "            board[mostUphill[0]] = mostUphill[1]\n",
    "            count = 0\n",
    "        else:\n",
    "            count += 1\n",
    "        \n",
    "      #print(board)\n",
    "       #print(\"Conflicts {}\".format(conflicts(board)))\n",
    "        if count > maxMoves:\n",
    "            #print(\"Resetting the board...\")\n",
    "            board = random_board(n)\n",
    "            count = 0\n",
    "            maxRestarts += -1\n",
    "        if maxRestarts == 0:\n",
    "            #print(\"Stuck at local max...with conflicts = {}\".format(conflicts(board)))\n",
    "            #print(\"Iterations = {}\".format(iterations))\n",
    "            #show_board(board)\n",
    "            return iterations, conflicts(board)\n",
    "            \n",
    "        \n",
    "    #print(\"Solved the problem!\")\n",
    "    #show_board(board)\n",
    "    #print(\"Iterations = {}\".format(iterations))\n",
    "    return iterations, conflicts(board)"
   ]
  },
  {
   "cell_type": "code",
   "execution_count": 163,
   "metadata": {},
   "outputs": [
    {
     "name": "stdout",
     "output_type": "stream",
     "text": [
      "Board with 4 conflicts.\n"
     ]
    },
    {
     "data": {
      "image/png": "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\n",
      "text/plain": [
       "<Figure size 432x288 with 1 Axes>"
      ]
     },
     "metadata": {},
     "output_type": "display_data"
    },
    {
     "name": "stdout",
     "output_type": "stream",
     "text": [
      "Resetting the board...\n",
      "Resetting the board...\n",
      "Resetting the board...\n",
      "Solved the problem!\n",
      "Board with 0 conflicts.\n"
     ]
    },
    {
     "data": {
      "image/png": "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\n",
      "text/plain": [
       "<Figure size 432x288 with 1 Axes>"
      ]
     },
     "metadata": {},
     "output_type": "display_data"
    },
    {
     "name": "stdout",
     "output_type": "stream",
     "text": [
      "Iterations = 307\n"
     ]
    },
    {
     "data": {
      "text/plain": [
       "(307, 0)"
      ]
     },
     "execution_count": 163,
     "metadata": {},
     "output_type": "execute_result"
    }
   ],
   "source": [
    "random_sahcs(4,100, 100)"
   ]
  },
  {
   "cell_type": "markdown",
   "metadata": {},
   "source": [
    "## Stochastic Hill Climbing [1 Point]\n",
    "\n",
    "Chooses randomly from among all uphill moves."
   ]
  },
  {
   "cell_type": "code",
   "execution_count": 176,
   "metadata": {},
   "outputs": [],
   "source": [
    "# Code goes here\n",
    "import random\n",
    "def hcs(n,maxMoves):\n",
    "    board = random_board(n)\n",
    "    #show_board(board)\n",
    "    if conflicts(board) == 0: #randomly created a board with zero conflicts\n",
    "        return 0,0\n",
    "   #print(board)\n",
    "   #print(board[0])\n",
    "    count = 0\n",
    "    iterations = 0\n",
    "    while conflicts(board) != 0:\n",
    "        moves = get_moves(board, n)\n",
    "        uphillMoves = get_uphill_moves(board, moves, n)\n",
    "        \n",
    "        iterations +=1\n",
    "        if len(uphillMoves) != 0:\n",
    "            #print(\"Moves are {}\".format(uphillMoves))\n",
    "            random.shuffle(uphillMoves)\n",
    "            #print(\"Shuffled moves are {}\".format(uphillMoves))\n",
    "            theMove = uphillMoves[0]\n",
    "            #print(\"The move is {}\".format(theMove))\n",
    "            board[theMove[0]] = theMove[1]\n",
    "            count = 0\n",
    "        else:\n",
    "            count += 1\n",
    "        \n",
    "      #print(board)\n",
    "       #print(\"Conflicts {}\".format(conflicts(board)))\n",
    "        if count > maxMoves:\n",
    "            #print(\"Stuck at local max...with conflicts = {}\".format(conflicts(board)))\n",
    "            #print(\"Iterations = {}\".format(iterations))\n",
    "            #show_board(board)\n",
    "            return iterations, conflicts(board)\n",
    "            \n",
    "        \n",
    "    #print(\"Solved the problem!\")\n",
    "    #show_board(board)\n",
    "    #print(\"Iterations = {}\".format(iterations))\n",
    "    return iterations, conflicts(board)"
   ]
  },
  {
   "cell_type": "code",
   "execution_count": 170,
   "metadata": {},
   "outputs": [
    {
     "name": "stdout",
     "output_type": "stream",
     "text": [
      "Board with 5 conflicts.\n"
     ]
    },
    {
     "data": {
      "image/png": "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\n",
      "text/plain": [
       "<Figure size 432x288 with 1 Axes>"
      ]
     },
     "metadata": {},
     "output_type": "display_data"
    },
    {
     "name": "stdout",
     "output_type": "stream",
     "text": [
      "Stuck at local max...with conflicts = 1\n",
      "Iterations = 1004\n",
      "Board with 1 conflicts.\n"
     ]
    },
    {
     "data": {
      "image/png": "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\n",
      "text/plain": [
       "<Figure size 432x288 with 1 Axes>"
      ]
     },
     "metadata": {},
     "output_type": "display_data"
    },
    {
     "data": {
      "text/plain": [
       "(1004, 1)"
      ]
     },
     "execution_count": 170,
     "metadata": {},
     "output_type": "execute_result"
    }
   ],
   "source": [
    "hcs(4, 1000)"
   ]
  },
  {
   "cell_type": "markdown",
   "metadata": {},
   "source": [
    "## First-choice Hill Climbing [1 Point]\n",
    "First-choice hill climbing is a type of stochastic hill climbing that generates one random local neighbor at a time and accept it if it has a better objective function value than the current state.\n"
   ]
  },
  {
   "cell_type": "code",
   "execution_count": 180,
   "metadata": {},
   "outputs": [],
   "source": [
    "# Code goes here\n",
    "\n",
    "def find_first_neighbor(board, n, maxIteration):\n",
    "    \n",
    "    theMove =[]\n",
    "    index = random.randint(0,n-1)\n",
    "    currConflicts = conflicts(board)\n",
    "    temp = board.copy()\n",
    "    count = 0\n",
    "    while len(theMove) <= 0:\n",
    "        for x in range(n):\n",
    "            if board[index] != x:\n",
    "                temp[index] = x\n",
    "                if conflicts(temp) < currConflicts:\n",
    "                    theMove = [index, x]\n",
    "        index = random.randint(0,n-1)\n",
    "        count += 1\n",
    "        if count > 1000:\n",
    "            return theMove\n",
    "\n",
    "    return theMove\n",
    "    \n",
    "def fhcs(n,maxMoves):\n",
    "    board = random_board(n)\n",
    "    #show_board(board)\n",
    "    if conflicts(board) == 0: #randomly created a board with zero conflicts\n",
    "        return 0,0\n",
    "   #print(board)\n",
    "   #print(board[0])\n",
    "    count = 0\n",
    "    iterations = 0\n",
    "    while conflicts(board) != 0:\n",
    "        theMove = find_first_neighbor(board,n, 1000)\n",
    "        iterations +=1\n",
    "        if len(theMove) != 0:\n",
    "            #print(\"The move is {}\".format(theMove))\n",
    "            board[theMove[0]] = theMove[1]\n",
    "            count = 0\n",
    "        else:\n",
    "            count += 1\n",
    "        \n",
    "      #print(board)\n",
    "       #print(\"Conflicts {}\".format(conflicts(board)))\n",
    "        if count > maxMoves:\n",
    "            #print(\"Stuck at local max...with conflicts = {}\".format(conflicts(board)))\n",
    "            #print(\"Iterations = {}\".format(iterations))\n",
    "            #show_board(board)\n",
    "            return iterations, conflicts(board)\n",
    "            \n",
    "        \n",
    "    #print(\"Solved the problem!\")\n",
    "    #show_board(board)\n",
    "    #print(\"Iterations = {}\".format(iterations))\n",
    "    return iterations, conflicts(board)"
   ]
  },
  {
   "cell_type": "code",
   "execution_count": 158,
   "metadata": {},
   "outputs": [
    {
     "name": "stdout",
     "output_type": "stream",
     "text": [
      "Board with 5 conflicts.\n"
     ]
    },
    {
     "data": {
      "image/png": "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\n",
      "text/plain": [
       "<Figure size 432x288 with 1 Axes>"
      ]
     },
     "metadata": {},
     "output_type": "display_data"
    },
    {
     "name": "stdout",
     "output_type": "stream",
     "text": [
      "The move is [2, 3]\n",
      "The move is [0, 3]\n",
      "The move is [1, 0]\n",
      "The move is [0, 2]\n",
      "Solved the problem!\n",
      "Board with 0 conflicts.\n"
     ]
    },
    {
     "data": {
      "image/png": "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\n",
      "text/plain": [
       "<Figure size 432x288 with 1 Axes>"
      ]
     },
     "metadata": {},
     "output_type": "display_data"
    },
    {
     "name": "stdout",
     "output_type": "stream",
     "text": [
      "Iterations = 6\n"
     ]
    },
    {
     "data": {
      "text/plain": [
       "(6, 0)"
      ]
     },
     "execution_count": 158,
     "metadata": {},
     "output_type": "execute_result"
    }
   ],
   "source": [
    "fhcs(4, 1000)"
   ]
  },
  {
   "cell_type": "markdown",
   "metadata": {},
   "source": [
    "## Simulated Annealing [2 Points]\n",
    "You have to experiment with the annealing schedule."
   ]
  },
  {
   "cell_type": "code",
   "execution_count": 174,
   "metadata": {},
   "outputs": [],
   "source": [
    "# Code goes here\n",
    "def find_sim_anneal(board, n, maxIteration, t):\n",
    "    theMove =[]\n",
    "    index = random.randint(0,n-1)\n",
    "    currConflicts = conflicts(board)\n",
    "    temp = board.copy()\n",
    "    count = 0\n",
    "    while len(theMove) <= 0:\n",
    "        for x in range(n):\n",
    "            if board[index] != x:\n",
    "                temp[index] = x\n",
    "                if conflicts(temp) < currConflicts:\n",
    "                    theMove = [index, x]\n",
    "                else:\n",
    "                    z = random.random()\n",
    "                    #p = np.exp(-(currConflicts- conflicts(temp))/temperature)\n",
    "                    #print(\"z is {}\".format(z))\n",
    "                    #print(\"p is {}\".format(p))\n",
    "                    if z <= t:\n",
    "                        theMove = [index, x]\n",
    "        index = random.randint(0,n-1)\n",
    "        count += 1\n",
    "        if count > maxIteration:\n",
    "            return theMove\n",
    "\n",
    "    return theMove\n",
    "\n",
    "\n",
    "def sim_anneal(n,maxMoves, maxIterations):\n",
    "    board = random_board(n)\n",
    "    #show_board(board)\n",
    "    if conflicts(board) == 0: #randomly created a board with zero conflicts\n",
    "        return 0, 0\n",
    "   #print(board)\n",
    "   #print(board[0])\n",
    "    count = 0\n",
    "    iterations = 0\n",
    "    while conflicts(board) != 0:\n",
    "        iterations +=1\n",
    "        t = 50 * (.8 ** iterations)\n",
    "        #print(\"t is {}\".format(t))\n",
    "        theMove = find_sim_anneal(board,n, 1000, t)\n",
    "        \n",
    "        if len(theMove) != 0:\n",
    "            #print(\"The move is {}\".format(theMove))\n",
    "            board[theMove[0]] = theMove[1]\n",
    "            count = 0\n",
    "        else:\n",
    "            count += 1\n",
    "        \n",
    "      #print(board)\n",
    "       #print(\"Conflicts {}\".format(conflicts(board)))\n",
    "        if count > maxMoves or iterations > maxIterations:\n",
    "            #print(\"Stuck at local max...with conflicts = {}\".format(conflicts(board)))\n",
    "            #print(\"Iterations = {}\".format(iterations))\n",
    "            #show_board(board)\n",
    "            return iterations, conflicts(board)\n",
    "        \n",
    "            \n",
    "        \n",
    "    #print(\"Solved the problem!\")\n",
    "    #show_board(board)\n",
    "    #print(\"Iterations = {}\".format(iterations))\n",
    "    return iterations, conflicts(board)"
   ]
  },
  {
   "cell_type": "code",
   "execution_count": 160,
   "metadata": {},
   "outputs": [
    {
     "name": "stdout",
     "output_type": "stream",
     "text": [
      "Board with 4 conflicts.\n"
     ]
    },
    {
     "data": {
      "image/png": "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\n",
      "text/plain": [
       "<Figure size 432x288 with 1 Axes>"
      ]
     },
     "metadata": {},
     "output_type": "display_data"
    },
    {
     "name": "stdout",
     "output_type": "stream",
     "text": [
      "Solved the problem!\n",
      "Board with 0 conflicts.\n"
     ]
    },
    {
     "data": {
      "image/png": "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\n",
      "text/plain": [
       "<Figure size 432x288 with 1 Axes>"
      ]
     },
     "metadata": {},
     "output_type": "display_data"
    },
    {
     "name": "stdout",
     "output_type": "stream",
     "text": [
      "Iterations = 67\n"
     ]
    },
    {
     "data": {
      "text/plain": [
       "(67, 0)"
      ]
     },
     "execution_count": 160,
     "metadata": {},
     "output_type": "execute_result"
    }
   ],
   "source": [
    "sim_anneal(4, 1000, 5000)"
   ]
  },
  {
   "cell_type": "markdown",
   "metadata": {},
   "source": [
    "## Compare Performance [2 Points]\n",
    "Use runtime, scalability, and best objective function value to compare the algorithms on boards of different sizes.\n",
    "\n",
    "For timing you can use the time package."
   ]
  },
  {
   "cell_type": "code",
   "execution_count": 10,
   "metadata": {},
   "outputs": [
    {
     "name": "stdout",
     "output_type": "stream",
     "text": [
      "Do something\n",
      "This took: 0.9992122650146484 milliseconds\n"
     ]
    }
   ],
   "source": [
    "import time\n",
    "\n",
    "t0 = time.time()\n",
    "print(\"Do something\")\n",
    "t1 = time.time()\n",
    "\n",
    "print(f\"This took: {(t1-t0) * 1e3} milliseconds\")"
   ]
  },
  {
   "cell_type": "markdown",
   "metadata": {},
   "source": [
    "The tests performed on the algorithms demonstrate how Steepest-ascend Hill Climbing Search with Random Restarts and Simulated Annealing are best at finding the optimal solution. The other algorithms tend to get stuck in local maxima. This causes them to not reach the local maxima. On the other hand, the SAHCS with Random Restarts is able to find the optimal solution with the board being randomly reset. The Simulated Annealing is also able to find the optimal solution more often as it is willing to take a \"worse\" objective function at times. Both of these actions for these two algorithms allow them to escape from these local maximas and progress towards the optimal solution.\n",
    "\n",
    "In terms of runtime and the required number of iterations, the algorithms tend to change as the size of the board grows. Initially, Simuated Annealing runs much faster and with much less iterations than the other algorithms. However, as the size of the board increased, this algorithm started to give the most problems with taking too long to run and reaching the most number of iterations. This is probably due to the larger degree of variability and the sheer number of possibilities that the simulated annealing can choose each time. This hurt my ability to test all of the algorithms at the larger board sizes sinze it would not execute all the trials within the given time and I had to reduce the number of trials running on the algorithms. Another aspect that should be noted is that the First-choice Hill Climbing algorithm consistently did a good job of finishing with a limited number of iterations. This makes sense as the algorithm is just picking the first neighbor with a better objective function than it currently has. It does not need to loop through all of the different possible moves and go about a complex way of picking which move to pursue from that list. Additionally, in looking at Steepest-ascend Hill Climbing Search vs. Steepest-ascend Hill Climbing Search with Random Restarts you can see the treadeoffs between the two algorithms. As stated earlier, Steepest-ascend Hill Climbing Search with Random Restarts does the best job at finding the optimal solution due to its usage of random restarts to get out of local maxima. However, these random restarts result in the algorithm consistenly taking longer to run and needing a larger number of iterations than the plain Steepest-ascend Hill Climbing Search without Random Restarts.\n"
   ]
  },
  {
   "cell_type": "code",
   "execution_count": 186,
   "metadata": {},
   "outputs": [
    {
     "name": "stdout",
     "output_type": "stream",
     "text": [
      "Average Steepest-Ascend Hill Climbing Iterations:  492.34\n",
      "Average Steepest-Ascend Hill Climbing Conflicts:  0.52\n",
      "Average Steepest-Ascend Hill Climbing Time:  257.0\n",
      "Average Steepest-ascend Hill Climbing with Random Restarts Iterations:  1235.44\n",
      "Average Steepest-ascend Hill Climbing with Random Restarts Conflicts:  0.0\n",
      "Average Steepest-ascend Hill Climbing with Random Restarts Time:  647.62\n",
      "Average Stochastic Hill Climbing Iterations:  602.93\n",
      "Average Stochastic Hill Climbing Conflicts:  0.75\n",
      "Average Stochastic Hill Climbing Time:  327.75\n",
      "Average First-choice Hill Climbing Iterations:  258.19\n",
      "Average First-choice Hill Climbing Conflicts:  0.25\n",
      "Average First-choice Hill Climbing Time:  29441.08\n",
      "Average Simulated Annealing Iterations:  49.56\n",
      "Average Simulated Annealing Conflicts:  0.01\n",
      "Average Simulated Annealing Time:  254.9586296081543\n"
     ]
    }
   ],
   "source": [
    "# Code and results go here\n",
    "N = 100\n",
    "iterations_sahcs = np.repeat(0, N)\n",
    "conflicts_sahcs = np.repeat(0, N)\n",
    "time_sahcs = np.repeat(0, N)\n",
    "\n",
    "iterations_random_sahcs = np.repeat(0, N)\n",
    "conflicts_random_sahcs = np.repeat(0, N)\n",
    "time_random_sahcs = np.repeat(0, N)\n",
    "\n",
    "iterations_hcs = np.repeat(0, N)\n",
    "conflicts_hcs = np.repeat(0, N)\n",
    "time_hcs = np.repeat(0, N)\n",
    "\n",
    "iterations_fhcs = np.repeat(0, N)\n",
    "conflicts_fhcs = np.repeat(0, N)\n",
    "time_fhcs = np.repeat(0, N)\n",
    "\n",
    "iterations_anneal = np.repeat(0, N)\n",
    "conflicts_anneal = np.repeat(0, N)\n",
    "time_anneal = np.repeat(0, N)\n",
    "size = 4\n",
    "for index in range(N):\n",
    "    t0 = time.time()\n",
    "    i, c = sahcs(size, 1000)\n",
    "    t1 = time.time()\n",
    "    iterations_sahcs[index] = i\n",
    "    conflicts_sahcs[index] = c\n",
    "    time_sahcs[index] = (t1-t0) * 1e3\n",
    "    \n",
    "    t0 = time.time()\n",
    "    i, c = random_sahcs(size, 1000, 100)\n",
    "    t1 = time.time()\n",
    "    iterations_random_sahcs[index] = i\n",
    "    conflicts_random_sahcs[index] = c\n",
    "    time_random_sahcs[index] = (t1-t0) * 1e3\n",
    "    \n",
    "    t0 = time.time()\n",
    "    i, c = hcs(size, 1000)\n",
    "    t1 = time.time()\n",
    "    iterations_hcs[index] = i\n",
    "    conflicts_hcs[index] = c\n",
    "    time_hcs[index] = (t1-t0) * 1e3\n",
    "    \n",
    "    t0 = time.time()\n",
    "    i, c = fhcs(4, 1000)\n",
    "    t1 = time.time()\n",
    "    iterations_fhcs[index] = i\n",
    "    conflicts_fhcs[index] = c\n",
    "    time_fhcs[index] = (t1-t0) * 1e3\n",
    "    \n",
    "    t0 = time.time()\n",
    "    i, c = sim_anneal(size, 1000, 5000)\n",
    "    t1 = time.time()\n",
    "    iterations_anneal[index] = i\n",
    "    conflicts_anneal[index] = c\n",
    "    time_anneal = (t1-t0) * 1e3\n",
    "\n",
    "\n",
    "\n",
    "print(\"Average Steepest-Ascend Hill Climbing Iterations: \", np.mean(iterations_sahcs))\n",
    "print(\"Average Steepest-Ascend Hill Climbing Conflicts: \", np.mean(conflicts_sahcs))\n",
    "print(\"Average Steepest-Ascend Hill Climbing Time: \", np.mean(time_sahcs))\n",
    "\n",
    "print(\"Average Steepest-ascend Hill Climbing with Random Restarts Iterations: \", np.mean(iterations_random_sahcs))\n",
    "print(\"Average Steepest-ascend Hill Climbing with Random Restarts Conflicts: \", np.mean(conflicts_random_sahcs))\n",
    "print(\"Average Steepest-ascend Hill Climbing with Random Restarts Time: \", np.mean(time_random_sahcs))\n",
    "\n",
    "print(\"Average Stochastic Hill Climbing Iterations: \", np.mean(iterations_hcs))\n",
    "print(\"Average Stochastic Hill Climbing Conflicts: \", np.mean(conflicts_hcs))\n",
    "print(\"Average Stochastic Hill Climbing Time: \", np.mean(time_hcs))\n",
    "\n",
    "print(\"Average First-choice Hill Climbing Iterations: \", np.mean(iterations_fhcs))\n",
    "print(\"Average First-choice Hill Climbing Conflicts: \", np.mean(conflicts_fhcs))\n",
    "print(\"Average First-choice Hill Climbing Time: \", np.mean(time_fhcs))\n",
    "\n",
    "print(\"Average Simulated Annealing Iterations: \", np.mean(iterations_anneal))\n",
    "print(\"Average Simulated Annealing Conflicts: \", np.mean(conflicts_anneal))\n",
    "print(\"Average Simulated Annealing Time: \", np.mean(time_anneal))\n"
   ]
  },
  {
   "cell_type": "code",
   "execution_count": 187,
   "metadata": {},
   "outputs": [
    {
     "name": "stdout",
     "output_type": "stream",
     "text": [
      "Average Steepest-Ascend Hill Climbing Iterations:  292.59\n",
      "Average Steepest-Ascend Hill Climbing Conflicts:  0.47\n",
      "Average Steepest-Ascend Hill Climbing Time:  315.48\n",
      "Average Steepest-ascend Hill Climbing with Random Restarts Iterations:  293.4\n",
      "Average Steepest-ascend Hill Climbing with Random Restarts Conflicts:  0.0\n",
      "Average Steepest-ascend Hill Climbing with Random Restarts Time:  314.11\n",
      "Average Stochastic Hill Climbing Iterations:  383.67\n",
      "Average Stochastic Hill Climbing Conflicts:  0.66\n",
      "Average Stochastic Hill Climbing Time:  407.21\n",
      "Average First-choice Hill Climbing Iterations:  31.6\n",
      "Average First-choice Hill Climbing Conflicts:  0.02\n",
      "Average First-choice Hill Climbing Time:  5076.53\n",
      "Average Simulated Annealing Iterations:  45.74\n",
      "Average Simulated Annealing Conflicts:  0.0\n",
      "Average Simulated Annealing Time:  1021.0397243499756\n"
     ]
    }
   ],
   "source": [
    "# Code and results go here\n",
    "N = 100\n",
    "iterations_sahcs = np.repeat(0, N)\n",
    "conflicts_sahcs = np.repeat(0, N)\n",
    "time_sahcs = np.repeat(0, N)\n",
    "\n",
    "iterations_random_sahcs = np.repeat(0, N)\n",
    "conflicts_random_sahcs = np.repeat(0, N)\n",
    "time_random_sahcs = np.repeat(0, N)\n",
    "\n",
    "iterations_hcs = np.repeat(0, N)\n",
    "conflicts_hcs = np.repeat(0, N)\n",
    "time_hcs = np.repeat(0, N)\n",
    "\n",
    "iterations_fhcs = np.repeat(0, N)\n",
    "conflicts_fhcs = np.repeat(0, N)\n",
    "time_fhcs = np.repeat(0, N)\n",
    "\n",
    "iterations_anneal = np.repeat(0, N)\n",
    "conflicts_anneal = np.repeat(0, N)\n",
    "time_anneal = np.repeat(0, N)\n",
    "size = 5\n",
    "for index in range(N):\n",
    "    t0 = time.time()\n",
    "    i, c = sahcs(size, 1000)\n",
    "    t1 = time.time()\n",
    "    iterations_sahcs[index] = i\n",
    "    conflicts_sahcs[index] = c\n",
    "    time_sahcs[index] = (t1-t0) * 1e3\n",
    "    \n",
    "    t0 = time.time()\n",
    "    i, c = random_sahcs(size, 1000, 100)\n",
    "    t1 = time.time()\n",
    "    iterations_random_sahcs[index] = i\n",
    "    conflicts_random_sahcs[index] = c\n",
    "    time_random_sahcs[index] = (t1-t0) * 1e3\n",
    "    \n",
    "    t0 = time.time()\n",
    "    i, c = hcs(size, 1000)\n",
    "    t1 = time.time()\n",
    "    iterations_hcs[index] = i\n",
    "    conflicts_hcs[index] = c\n",
    "    time_hcs[index] = (t1-t0) * 1e3\n",
    "    \n",
    "    t0 = time.time()\n",
    "    i, c = fhcs(size, 1000)\n",
    "    t1 = time.time()\n",
    "    iterations_fhcs[index] = i\n",
    "    conflicts_fhcs[index] = c\n",
    "    time_fhcs[index] = (t1-t0) * 1e3\n",
    "    \n",
    "    t0 = time.time()\n",
    "    i, c = sim_anneal(size, 1000, 5000)\n",
    "    t1 = time.time()\n",
    "    iterations_anneal[index] = i\n",
    "    conflicts_anneal[index] = c\n",
    "    time_anneal = (t1-t0) * 1e3\n",
    "\n",
    "\n",
    "\n",
    "print(\"Average Steepest-Ascend Hill Climbing Iterations: \", np.mean(iterations_sahcs))\n",
    "print(\"Average Steepest-Ascend Hill Climbing Conflicts: \", np.mean(conflicts_sahcs))\n",
    "print(\"Average Steepest-Ascend Hill Climbing Time: \", np.mean(time_sahcs))\n",
    "\n",
    "print(\"Average Steepest-ascend Hill Climbing with Random Restarts Iterations: \", np.mean(iterations_random_sahcs))\n",
    "print(\"Average Steepest-ascend Hill Climbing with Random Restarts Conflicts: \", np.mean(conflicts_random_sahcs))\n",
    "print(\"Average Steepest-ascend Hill Climbing with Random Restarts Time: \", np.mean(time_random_sahcs))\n",
    "\n",
    "print(\"Average Stochastic Hill Climbing Iterations: \", np.mean(iterations_hcs))\n",
    "print(\"Average Stochastic Hill Climbing Conflicts: \", np.mean(conflicts_hcs))\n",
    "print(\"Average Stochastic Hill Climbing Time: \", np.mean(time_hcs))\n",
    "\n",
    "print(\"Average First-choice Hill Climbing Iterations: \", np.mean(iterations_fhcs))\n",
    "print(\"Average First-choice Hill Climbing Conflicts: \", np.mean(conflicts_fhcs))\n",
    "print(\"Average First-choice Hill Climbing Time: \", np.mean(time_fhcs))\n",
    "\n",
    "print(\"Average Simulated Annealing Iterations: \", np.mean(iterations_anneal))\n",
    "print(\"Average Simulated Annealing Conflicts: \", np.mean(conflicts_anneal))\n",
    "print(\"Average Simulated Annealing Time: \", np.mean(time_anneal))\n"
   ]
  },
  {
   "cell_type": "code",
   "execution_count": 193,
   "metadata": {},
   "outputs": [
    {
     "name": "stdout",
     "output_type": "stream",
     "text": [
      "Average Steepest-Ascend Hill Climbing Iterations:  1004.0\n",
      "Average Steepest-Ascend Hill Climbing Conflicts:  1.0\n",
      "Average Steepest-Ascend Hill Climbing Time:  2105.0\n",
      "Average Steepest-ascend Hill Climbing with Random Restarts Iterations:  4016.0\n",
      "Average Steepest-ascend Hill Climbing with Random Restarts Conflicts:  0.0\n",
      "Average Steepest-ascend Hill Climbing with Random Restarts Time:  10620.0\n",
      "Average Stochastic Hill Climbing Iterations:  1006.0\n",
      "Average Stochastic Hill Climbing Conflicts:  1.0\n",
      "Average Stochastic Hill Climbing Time:  2571.0\n",
      "Average First-choice Hill Climbing Iterations:  15.0\n",
      "Average First-choice Hill Climbing Conflicts:  0.0\n",
      "Average First-choice Hill Climbing Time:  1209.0\n",
      "Average Simulated Annealing Iterations:  1077.0\n",
      "Average Simulated Annealing Conflicts:  1.0\n",
      "Average Simulated Annealing Time:  443315.8805370331\n"
     ]
    }
   ],
   "source": [
    "# Code and results go here\n",
    "N = 1\n",
    "iterations_sahcs = np.repeat(0, N)\n",
    "conflicts_sahcs = np.repeat(0, N)\n",
    "time_sahcs = np.repeat(0, N)\n",
    "\n",
    "iterations_random_sahcs = np.repeat(0, N)\n",
    "conflicts_random_sahcs = np.repeat(0, N)\n",
    "time_random_sahcs = np.repeat(0, N)\n",
    "\n",
    "iterations_hcs = np.repeat(0, N)\n",
    "conflicts_hcs = np.repeat(0, N)\n",
    "time_hcs = np.repeat(0, N)\n",
    "\n",
    "iterations_fhcs = np.repeat(0, N)\n",
    "conflicts_fhcs = np.repeat(0, N)\n",
    "time_fhcs = np.repeat(0, N)\n",
    "\n",
    "iterations_anneal = np.repeat(0, N)\n",
    "conflicts_anneal = np.repeat(0, N)\n",
    "time_anneal = np.repeat(0, N)\n",
    "size = 6\n",
    "for index in range(N):\n",
    "    t0 = time.time()\n",
    "    i, c = sahcs(size, 1000)\n",
    "    t1 = time.time()\n",
    "    iterations_sahcs[index] = i\n",
    "    conflicts_sahcs[index] = c\n",
    "    time_sahcs[index] = (t1-t0) * 1e3\n",
    "    \n",
    "    t0 = time.time()\n",
    "    i, c = random_sahcs(size, 1000, 100)\n",
    "    t1 = time.time()\n",
    "    iterations_random_sahcs[index] = i\n",
    "    conflicts_random_sahcs[index] = c\n",
    "    time_random_sahcs[index] = (t1-t0) * 1e3\n",
    "    \n",
    "    t0 = time.time()\n",
    "    i, c = hcs(size, 1000)\n",
    "    t1 = time.time()\n",
    "    iterations_hcs[index] = i\n",
    "    conflicts_hcs[index] = c\n",
    "    time_hcs[index] = (t1-t0) * 1e3\n",
    "    \n",
    "    t0 = time.time()\n",
    "    i, c = fhcs(4, 1000)\n",
    "    t1 = time.time()\n",
    "    iterations_fhcs[index] = i\n",
    "    conflicts_fhcs[index] = c\n",
    "    time_fhcs[index] = (t1-t0) * 1e3\n",
    "    \n",
    "    t0 = time.time()\n",
    "    i, c = sim_anneal(size, 1000, 5000)\n",
    "    t1 = time.time()\n",
    "    iterations_anneal[index] = i\n",
    "    conflicts_anneal[index] = c\n",
    "    time_anneal = (t1-t0) * 1e3\n",
    "\n",
    "\n",
    "\n",
    "print(\"Average Steepest-Ascend Hill Climbing Iterations: \", np.mean(iterations_sahcs))\n",
    "print(\"Average Steepest-Ascend Hill Climbing Conflicts: \", np.mean(conflicts_sahcs))\n",
    "print(\"Average Steepest-Ascend Hill Climbing Time: \", np.mean(time_sahcs))\n",
    "\n",
    "print(\"Average Steepest-ascend Hill Climbing with Random Restarts Iterations: \", np.mean(iterations_random_sahcs))\n",
    "print(\"Average Steepest-ascend Hill Climbing with Random Restarts Conflicts: \", np.mean(conflicts_random_sahcs))\n",
    "print(\"Average Steepest-ascend Hill Climbing with Random Restarts Time: \", np.mean(time_random_sahcs))\n",
    "\n",
    "print(\"Average Stochastic Hill Climbing Iterations: \", np.mean(iterations_hcs))\n",
    "print(\"Average Stochastic Hill Climbing Conflicts: \", np.mean(conflicts_hcs))\n",
    "print(\"Average Stochastic Hill Climbing Time: \", np.mean(time_hcs))\n",
    "\n",
    "print(\"Average First-choice Hill Climbing Iterations: \", np.mean(iterations_fhcs))\n",
    "print(\"Average First-choice Hill Climbing Conflicts: \", np.mean(conflicts_fhcs))\n",
    "print(\"Average First-choice Hill Climbing Time: \", np.mean(time_fhcs))\n",
    "\n",
    "print(\"Average Simulated Annealing Iterations: \", np.mean(iterations_anneal))\n",
    "print(\"Average Simulated Annealing Conflicts: \", np.mean(conflicts_anneal))\n",
    "print(\"Average Simulated Annealing Time: \", np.mean(time_anneal))\n"
   ]
  },
  {
   "cell_type": "code",
   "execution_count": 195,
   "metadata": {},
   "outputs": [
    {
     "name": "stdout",
     "output_type": "stream",
     "text": [
      "Average Steepest-Ascend Hill Climbing Iterations:  3.0\n",
      "Average Steepest-Ascend Hill Climbing Conflicts:  0.0\n",
      "Average Steepest-Ascend Hill Climbing Time:  16.0\n",
      "Average Steepest-ascend Hill Climbing with Random Restarts Iterations:  10046.0\n",
      "Average Steepest-ascend Hill Climbing with Random Restarts Conflicts:  0.0\n",
      "Average Steepest-ascend Hill Climbing with Random Restarts Time:  40464.0\n",
      "Average Stochastic Hill Climbing Iterations:  1008.0\n",
      "Average Stochastic Hill Climbing Conflicts:  2.0\n",
      "Average Stochastic Hill Climbing Time:  7303.0\n",
      "Average First-choice Hill Climbing Iterations:  16.0\n",
      "Average First-choice Hill Climbing Conflicts:  0.0\n",
      "Average First-choice Hill Climbing Time:  1882.0\n",
      "Average Simulated Annealing Iterations:  1075.0\n",
      "Average Simulated Annealing Conflicts:  1.0\n",
      "Average Simulated Annealing Time:  571041.8975353241\n"
     ]
    }
   ],
   "source": [
    "# Code and results go here\n",
    "N = 1\n",
    "iterations_sahcs = np.repeat(0, N)\n",
    "conflicts_sahcs = np.repeat(0, N)\n",
    "time_sahcs = np.repeat(0, N)\n",
    "\n",
    "iterations_random_sahcs = np.repeat(0, N)\n",
    "conflicts_random_sahcs = np.repeat(0, N)\n",
    "time_random_sahcs = np.repeat(0, N)\n",
    "\n",
    "iterations_hcs = np.repeat(0, N)\n",
    "conflicts_hcs = np.repeat(0, N)\n",
    "time_hcs = np.repeat(0, N)\n",
    "\n",
    "iterations_fhcs = np.repeat(0, N)\n",
    "conflicts_fhcs = np.repeat(0, N)\n",
    "time_fhcs = np.repeat(0, N)\n",
    "\n",
    "iterations_anneal = np.repeat(0, N)\n",
    "conflicts_anneal = np.repeat(0, N)\n",
    "time_anneal = np.repeat(0, N)\n",
    "size = 7\n",
    "for index in range(N):\n",
    "    t0 = time.time()\n",
    "    i, c = sahcs(size, 1000)\n",
    "    t1 = time.time()\n",
    "    iterations_sahcs[index] = i\n",
    "    conflicts_sahcs[index] = c\n",
    "    time_sahcs[index] = (t1-t0) * 1e3\n",
    "    \n",
    "    t0 = time.time()\n",
    "    i, c = random_sahcs(size, 1000, 100)\n",
    "    t1 = time.time()\n",
    "    iterations_random_sahcs[index] = i\n",
    "    conflicts_random_sahcs[index] = c\n",
    "    time_random_sahcs[index] = (t1-t0) * 1e3\n",
    "    \n",
    "    t0 = time.time()\n",
    "    i, c = hcs(size, 1000)\n",
    "    t1 = time.time()\n",
    "    iterations_hcs[index] = i\n",
    "    conflicts_hcs[index] = c\n",
    "    time_hcs[index] = (t1-t0) * 1e3\n",
    "    \n",
    "    t0 = time.time()\n",
    "    i, c = fhcs(4, 1000)\n",
    "    t1 = time.time()\n",
    "    iterations_fhcs[index] = i\n",
    "    conflicts_fhcs[index] = c\n",
    "    time_fhcs[index] = (t1-t0) * 1e3\n",
    "    \n",
    "    t0 = time.time()\n",
    "    i, c = sim_anneal(size, 1000, 5000)\n",
    "    t1 = time.time()\n",
    "    iterations_anneal[index] = i\n",
    "    conflicts_anneal[index] = c\n",
    "    time_anneal = (t1-t0) * 1e3\n",
    "\n",
    "\n",
    "\n",
    "print(\"Average Steepest-Ascend Hill Climbing Iterations: \", np.mean(iterations_sahcs))\n",
    "print(\"Average Steepest-Ascend Hill Climbing Conflicts: \", np.mean(conflicts_sahcs))\n",
    "print(\"Average Steepest-Ascend Hill Climbing Time: \", np.mean(time_sahcs))\n",
    "\n",
    "print(\"Average Steepest-ascend Hill Climbing with Random Restarts Iterations: \", np.mean(iterations_random_sahcs))\n",
    "print(\"Average Steepest-ascend Hill Climbing with Random Restarts Conflicts: \", np.mean(conflicts_random_sahcs))\n",
    "print(\"Average Steepest-ascend Hill Climbing with Random Restarts Time: \", np.mean(time_random_sahcs))\n",
    "\n",
    "print(\"Average Stochastic Hill Climbing Iterations: \", np.mean(iterations_hcs))\n",
    "print(\"Average Stochastic Hill Climbing Conflicts: \", np.mean(conflicts_hcs))\n",
    "print(\"Average Stochastic Hill Climbing Time: \", np.mean(time_hcs))\n",
    "\n",
    "print(\"Average First-choice Hill Climbing Iterations: \", np.mean(iterations_fhcs))\n",
    "print(\"Average First-choice Hill Climbing Conflicts: \", np.mean(conflicts_fhcs))\n",
    "print(\"Average First-choice Hill Climbing Time: \", np.mean(time_fhcs))\n",
    "\n",
    "print(\"Average Simulated Annealing Iterations: \", np.mean(iterations_anneal))\n",
    "print(\"Average Simulated Annealing Conflicts: \", np.mean(conflicts_anneal))\n",
    "print(\"Average Simulated Annealing Time: \", np.mean(time_anneal))\n"
   ]
  },
  {
   "cell_type": "code",
   "execution_count": 196,
   "metadata": {},
   "outputs": [
    {
     "name": "stdout",
     "output_type": "stream",
     "text": [
      "Average Steepest-Ascend Hill Climbing Iterations:  1003.0\n",
      "Average Steepest-Ascend Hill Climbing Conflicts:  2.0\n",
      "Average Steepest-Ascend Hill Climbing Time:  6490.0\n",
      "Average Steepest-ascend Hill Climbing with Random Restarts Iterations:  6024.0\n",
      "Average Steepest-ascend Hill Climbing with Random Restarts Conflicts:  0.0\n",
      "Average Steepest-ascend Hill Climbing with Random Restarts Time:  40832.0\n",
      "Average Stochastic Hill Climbing Iterations:  7.0\n",
      "Average Stochastic Hill Climbing Conflicts:  0.0\n",
      "Average Stochastic Hill Climbing Time:  44.0\n",
      "Average First-choice Hill Climbing Iterations:  1004.0\n",
      "Average First-choice Hill Climbing Conflicts:  1.0\n",
      "Average First-choice Hill Climbing Time:  147896.0\n",
      "Average Simulated Annealing Iterations:  1072.0\n",
      "Average Simulated Annealing Conflicts:  2.0\n",
      "Average Simulated Annealing Time:  805048.460483551\n"
     ]
    }
   ],
   "source": [
    "# Code and results go here\n",
    "N = 1\n",
    "iterations_sahcs = np.repeat(0, N)\n",
    "conflicts_sahcs = np.repeat(0, N)\n",
    "time_sahcs = np.repeat(0, N)\n",
    "\n",
    "iterations_random_sahcs = np.repeat(0, N)\n",
    "conflicts_random_sahcs = np.repeat(0, N)\n",
    "time_random_sahcs = np.repeat(0, N)\n",
    "\n",
    "iterations_hcs = np.repeat(0, N)\n",
    "conflicts_hcs = np.repeat(0, N)\n",
    "time_hcs = np.repeat(0, N)\n",
    "\n",
    "iterations_fhcs = np.repeat(0, N)\n",
    "conflicts_fhcs = np.repeat(0, N)\n",
    "time_fhcs = np.repeat(0, N)\n",
    "\n",
    "iterations_anneal = np.repeat(0, N)\n",
    "conflicts_anneal = np.repeat(0, N)\n",
    "time_anneal = np.repeat(0, N)\n",
    "size = 8\n",
    "for index in range(N):\n",
    "    t0 = time.time()\n",
    "    i, c = sahcs(size, 1000)\n",
    "    t1 = time.time()\n",
    "    iterations_sahcs[index] = i\n",
    "    conflicts_sahcs[index] = c\n",
    "    time_sahcs[index] = (t1-t0) * 1e3\n",
    "    \n",
    "    t0 = time.time()\n",
    "    i, c = random_sahcs(size, 1000, 100)\n",
    "    t1 = time.time()\n",
    "    iterations_random_sahcs[index] = i\n",
    "    conflicts_random_sahcs[index] = c\n",
    "    time_random_sahcs[index] = (t1-t0) * 1e3\n",
    "    \n",
    "    t0 = time.time()\n",
    "    i, c = hcs(size, 1000)\n",
    "    t1 = time.time()\n",
    "    iterations_hcs[index] = i\n",
    "    conflicts_hcs[index] = c\n",
    "    time_hcs[index] = (t1-t0) * 1e3\n",
    "    \n",
    "    t0 = time.time()\n",
    "    i, c = fhcs(4, 1000)\n",
    "    t1 = time.time()\n",
    "    iterations_fhcs[index] = i\n",
    "    conflicts_fhcs[index] = c\n",
    "    time_fhcs[index] = (t1-t0) * 1e3\n",
    "    \n",
    "    t0 = time.time()\n",
    "    i, c = sim_anneal(size, 1000, 5000)\n",
    "    t1 = time.time()\n",
    "    iterations_anneal[index] = i\n",
    "    conflicts_anneal[index] = c\n",
    "    time_anneal = (t1-t0) * 1e3\n",
    "\n",
    "\n",
    "\n",
    "print(\"Average Steepest-Ascend Hill Climbing Iterations: \", np.mean(iterations_sahcs))\n",
    "print(\"Average Steepest-Ascend Hill Climbing Conflicts: \", np.mean(conflicts_sahcs))\n",
    "print(\"Average Steepest-Ascend Hill Climbing Time: \", np.mean(time_sahcs))\n",
    "\n",
    "print(\"Average Steepest-ascend Hill Climbing with Random Restarts Iterations: \", np.mean(iterations_random_sahcs))\n",
    "print(\"Average Steepest-ascend Hill Climbing with Random Restarts Conflicts: \", np.mean(conflicts_random_sahcs))\n",
    "print(\"Average Steepest-ascend Hill Climbing with Random Restarts Time: \", np.mean(time_random_sahcs))\n",
    "\n",
    "print(\"Average Stochastic Hill Climbing Iterations: \", np.mean(iterations_hcs))\n",
    "print(\"Average Stochastic Hill Climbing Conflicts: \", np.mean(conflicts_hcs))\n",
    "print(\"Average Stochastic Hill Climbing Time: \", np.mean(time_hcs))\n",
    "\n",
    "print(\"Average First-choice Hill Climbing Iterations: \", np.mean(iterations_fhcs))\n",
    "print(\"Average First-choice Hill Climbing Conflicts: \", np.mean(conflicts_fhcs))\n",
    "print(\"Average First-choice Hill Climbing Time: \", np.mean(time_fhcs))\n",
    "\n",
    "print(\"Average Simulated Annealing Iterations: \", np.mean(iterations_anneal))\n",
    "print(\"Average Simulated Annealing Conflicts: \", np.mean(conflicts_anneal))\n",
    "print(\"Average Simulated Annealing Time: \", np.mean(time_anneal))\n"
   ]
  },
  {
   "cell_type": "markdown",
   "metadata": {},
   "source": [
    "## Bonus: Genetic Algorithm [+1 Point]\n"
   ]
  },
  {
   "cell_type": "code",
   "execution_count": 12,
   "metadata": {},
   "outputs": [],
   "source": [
    "# Code goes here"
   ]
  },
  {
   "cell_type": "code",
   "execution_count": null,
   "metadata": {},
   "outputs": [],
   "source": []
  }
 ],
 "metadata": {
  "kernelspec": {
   "display_name": "Python 3.8.2 64-bit",
   "language": "python",
   "name": "python38264bit98ac8c83745348188fac55eafd213bb3"
<<<<<<< HEAD
  },
  "language_info": {
   "codemirror_mode": {
    "name": "ipython",
    "version": 3
   },
   "file_extension": ".py",
   "mimetype": "text/x-python",
   "name": "python",
   "nbconvert_exporter": "python",
   "pygments_lexer": "ipython3",
   "version": "3.8.2"
=======
>>>>>>> 5664bc07585ce275554372bc634a7b35a6a54c10
  }
 },
 "nbformat": 4,
 "nbformat_minor": 2
}
